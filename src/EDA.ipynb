{
 "cells": [
  {
   "cell_type": "code",
   "execution_count": 1,
   "metadata": {},
   "outputs": [],
   "source": [
    "import pandas as pd\n",
    "import glob\n",
    "import os\n",
    "import warnings\n",
    "\n",
    "pd.set_option(\"display.max_rows\", None)\n",
    "warnings.simplefilter(action='ignore', category=FutureWarning)\n",
    "\n",
    "folderPath = '../data/in'"
   ]
  },
  {
   "cell_type": "code",
   "execution_count": 2,
   "metadata": {},
   "outputs": [],
   "source": [
    "excel_files = glob.glob(os.path.join(folderPath, '*.xlsx'))\n",
    "\n",
    "data = []\n",
    "\n",
    "for file in excel_files:\n",
    "    df = pd.read_excel(file, dtype=str)\n",
    "    year = os.path.basename(file).split('.')[0]\n",
    "    df[\"FILE\"] = year\n",
    "    data.append(df)\n",
    "\n",
    "df = pd.concat(data, ignore_index=True)\n",
    "df.to_excel('../data/out/output.xlsx', index=False)"
   ]
  },
  {
   "cell_type": "code",
   "execution_count": 3,
   "metadata": {},
   "outputs": [],
   "source": [
    "# TOTAL_HORAS\n",
    "try:\n",
    "    df['TOTAL_HORAS'] = df['TOTAL_HORAS'].str.replace(':', '.')\n",
    "    df['TOTAL_HORAS'] = df['TOTAL_HORAS'].str.replace('Pendiente', '0')\n",
    "\n",
    "    df['TOTAL_HORAS'] = pd.to_numeric(df['TOTAL_HORAS'], errors='coerce').fillna(0).round(2)\n",
    "except:\n",
    "    print(\"Proceso terminado\")"
   ]
  },
  {
   "cell_type": "code",
   "execution_count": 4,
   "metadata": {},
   "outputs": [],
   "source": [
    "# NUM CLASE\n",
    "try:\n",
    "    df['NUM_CLASE'] = df['NUM_CLASE'].fillna(\"Sin Definir\")\n",
    "    df['NUM_CLASE'] = df['NUM_CLASE'].str.replace('-1', 'Sin Definir')\n",
    "except:\n",
    "    print(\"Proceso terminado\")"
   ]
  },
  {
   "cell_type": "code",
   "execution_count": 5,
   "metadata": {},
   "outputs": [],
   "source": [
    "# PROGRAMA\n",
    "try:\n",
    "    df['PROGRAMA'] = df['PROGRAMA'].fillna(\"Sin Definir\")\n",
    "except:\n",
    "    print(\"Proceso terminado\")"
   ]
  },
  {
   "cell_type": "code",
   "execution_count": 6,
   "metadata": {},
   "outputs": [],
   "source": [
    "# ASIGNATURA\n",
    "try:\n",
    "    df['ASIGNATURA'] = df['ASIGNATURA'].fillna(\"Sin Definir\")\n",
    "except:\n",
    "    print(\"Proceso terminado\")"
   ]
  },
  {
   "cell_type": "code",
   "execution_count": 7,
   "metadata": {},
   "outputs": [],
   "source": [
    "replace_values = [\"00:00:00\", \"Pdte\", \"cancelada\", \"No ha entregado\", \"Pendiente\", \"PENDIENTE\", \"\"]   \n",
    "\n",
    "# FECHAS\n",
    "try:\n",
    "    defaultDate = df['CICLO_LECTIVO'].str.extract(r'(\\d{4})')[0] + '-01-01 00:00:00'\n",
    "\n",
    "    df['FECHA_INICIAL'] = df['FECHA_INICIAL'].fillna(defaultDate)\n",
    "\n",
    "    df.loc[df['FECHA_INICIAL'].isin(replace_values), 'FECHA_INICIAL'] = defaultDate\n",
    "    df.loc[df['FECHA_FINAL'].isin(replace_values), 'FECHA_FINAL'] = defaultDate\n",
    "    \n",
    "    df['FECHA_INICIAL'] = df['FECHA_INICIAL'].fillna(df['FILE']+'-01-01 00:00:00')\n",
    "    df['FECHA_FINAL'] = df['FECHA_FINAL'].fillna(df['FECHA_INICIAL'])\n",
    "\n",
    "    df['FECHA_INICIAL'] = pd.to_datetime(df['FECHA_INICIAL'], errors='coerce')\n",
    "    df['FECHA_FINAL'] = pd.to_datetime(df['FECHA_FINAL'], errors='coerce')\n",
    "\n",
    "    df['FECHA_FINAL'] = df['FECHA_FINAL'].fillna(df['FECHA_INICIAL'])\n",
    "    df['YEAR'] = df['FECHA_INICIAL'].dt.year\n",
    "except:\n",
    "    print(\"Proceso terminado\")"
   ]
  },
  {
   "cell_type": "code",
   "execution_count": 8,
   "metadata": {},
   "outputs": [],
   "source": [
    "# CICLO_LECTIVO\n",
    "try:\n",
    "    df['CICLO_LECTIVO'] = df['CICLO_LECTIVO'].fillna(df['YEAR'])\n",
    "    df['CICLO_LECTIVO'] = df['CICLO_LECTIVO'].fillna(df['FILE'])\n",
    "except:\n",
    "    print(\"Proceso terminado\")"
   ]
  },
  {
   "cell_type": "code",
   "execution_count": 9,
   "metadata": {},
   "outputs": [],
   "source": [
    "# CC\n",
    "try:\n",
    "    df['CC_PROFESOR'] = df['CC_PROFESOR'].str.replace(r'[^a-zA-Z0-9]', '', regex=True)\n",
    "except:\n",
    "    print(\"Proceso terminado\")"
   ]
  },
  {
   "cell_type": "code",
   "execution_count": 10,
   "metadata": {},
   "outputs": [],
   "source": [
    "# NOMBRE_PROFESOR\n",
    "try:\n",
    "    df['NOMBRE_PROFESOR'] = df['NOMBRE_PROFESOR'].str.upper().str.strip()\n",
    "except:\n",
    "    print(\"Proceso terminado\")"
   ]
  },
  {
   "cell_type": "code",
   "execution_count": 11,
   "metadata": {},
   "outputs": [],
   "source": [
    "# FILL MISSING INFO\n",
    "try:\n",
    "    df['CC_PROFESOR'] = df.groupby('NOMBRE_PROFESOR')['CC_PROFESOR'].transform(lambda x: x.fillna(method='ffill').fillna(method='bfill'))\n",
    "    df['NOMBRE_PROFESOR'] = df.groupby('CC_PROFESOR')['NOMBRE_PROFESOR'].transform(lambda x: x.fillna(method='ffill').fillna(method='bfill'))\n",
    "except:\n",
    "    print(\"Proceso terminado\")"
   ]
  },
  {
   "cell_type": "code",
   "execution_count": 12,
   "metadata": {},
   "outputs": [],
   "source": [
    "# CC Y NOMBRE\n",
    "try:\n",
    "    df['CC_PROFESOR'] = df['CC_PROFESOR'].fillna(\"0\")\n",
    "    df['NOMBRE_PROFESOR'] = df['NOMBRE_PROFESOR'].fillna(\"Sin Definir\")\n",
    "except:\n",
    "    print(\"Proceso terminado\")"
   ]
  },
  {
   "cell_type": "code",
   "execution_count": 13,
   "metadata": {},
   "outputs": [],
   "source": [
    "# TIPO_CONTRATO\n",
    "try:\n",
    "    df['TIPO_CONTRATO'] = df['TIPO_CONTRATO'].fillna(\"Sin Definir\")\n",
    "except:\n",
    "    print(\"Proceso terminado\")"
   ]
  },
  {
   "cell_type": "code",
   "execution_count": 14,
   "metadata": {},
   "outputs": [],
   "source": [
    "df.to_excel('../data/out/clean.xlsx', index=False)"
   ]
  }
 ],
 "metadata": {
  "kernelspec": {
   "display_name": "DataScience",
   "language": "python",
   "name": "python3"
  },
  "language_info": {
   "codemirror_mode": {
    "name": "ipython",
    "version": 3
   },
   "file_extension": ".py",
   "mimetype": "text/x-python",
   "name": "python",
   "nbconvert_exporter": "python",
   "pygments_lexer": "ipython3",
   "version": "3.12.2"
  }
 },
 "nbformat": 4,
 "nbformat_minor": 2
}
