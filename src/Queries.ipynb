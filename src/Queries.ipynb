{
 "cells": [
  {
   "cell_type": "code",
   "execution_count": 8,
   "metadata": {},
   "outputs": [],
   "source": [
    "import pandas as pd\n",
    "from datetime import datetime\n",
    "from openpyxl import Workbook\n",
    "from openpyxl.utils.dataframe import dataframe_to_rows\n",
    "from openpyxl.styles import Font, Alignment, Border, Side, PatternFill\n",
    "from openpyxl.worksheet.cell_range import CellRange\n",
    "\n",
    "CC = \"79531599\"\n",
    "FIRST_YEAR = 2022\n",
    "LAST_YEAR = 2024"
   ]
  },
  {
   "cell_type": "code",
   "execution_count": 2,
   "metadata": {},
   "outputs": [],
   "source": [
    "df = pd.read_excel('../data/out/clean.xlsx')"
   ]
  },
  {
   "cell_type": "code",
   "execution_count": 3,
   "metadata": {},
   "outputs": [
    {
     "data": {
      "text/plain": [
       "NUM_CLASE          0\n",
       "PROGRAMA           0\n",
       "ASIGNATURA         0\n",
       "TOTAL_HORAS        0\n",
       "CICLO_LECTIVO      0\n",
       "FECHA_INICIAL      0\n",
       "FECHA_FINAL        0\n",
       "CC_PROFESOR        0\n",
       "NOMBRE_PROFESOR    0\n",
       "TIPO_CONTRATO      0\n",
       "FILE               0\n",
       "YEAR               0\n",
       "dtype: int64"
      ]
     },
     "execution_count": 3,
     "metadata": {},
     "output_type": "execute_result"
    }
   ],
   "source": [
    "df.isnull().sum()"
   ]
  },
  {
   "cell_type": "code",
   "execution_count": 4,
   "metadata": {},
   "outputs": [
    {
     "data": {
      "text/plain": [
       "NUM_CLASE                  object\n",
       "PROGRAMA                   object\n",
       "ASIGNATURA                 object\n",
       "TOTAL_HORAS               float64\n",
       "CICLO_LECTIVO              object\n",
       "FECHA_INICIAL      datetime64[ns]\n",
       "FECHA_FINAL        datetime64[ns]\n",
       "CC_PROFESOR                object\n",
       "NOMBRE_PROFESOR            object\n",
       "TIPO_CONTRATO              object\n",
       "FILE                       object\n",
       "YEAR                        int64\n",
       "dtype: object"
      ]
     },
     "execution_count": 4,
     "metadata": {},
     "output_type": "execute_result"
    }
   ],
   "source": [
    "df.dtypes"
   ]
  },
  {
   "cell_type": "code",
   "execution_count": 5,
   "metadata": {},
   "outputs": [],
   "source": [
    "def most_frequent(x):\n",
    "    return x.value_counts().idxmax()\n",
    "\n",
    "def getNombreProfesor():\n",
    "    filtered_df = df[df[\"CC_PROFESOR\"] == CC]\n",
    "    return filtered_df[\"NOMBRE_PROFESOR\"].value_counts().idxmax()"
   ]
  },
  {
   "cell_type": "code",
   "execution_count": 9,
   "metadata": {},
   "outputs": [
    {
     "name": "stdout",
     "output_type": "stream",
     "text": [
      "Results for year 2022\n",
      "Results for year 2023\n",
      "Results for year 2024\n"
     ]
    }
   ],
   "source": [
    "result = {}\n",
    "\n",
    "for CURRENT_YEAR in range(FIRST_YEAR, LAST_YEAR + 1):\n",
    "    NOW = datetime.now().date()\n",
    "    filtered_df = df[(df['CC_PROFESOR'] == CC) & (df['YEAR'] == CURRENT_YEAR) & (pd.to_datetime(df['FECHA_FINAL']).dt.date <= NOW)]\n",
    "    if not filtered_df.empty:\n",
    "        grouped_df = filtered_df.groupby(['NUM_CLASE', 'PROGRAMA', 'ASIGNATURA', 'CICLO_LECTIVO']).agg(\n",
    "            TOTAL_HORAS=pd.NamedAgg(column='TOTAL_HORAS', aggfunc='sum'),\n",
    "            FECHA_INICIAL=pd.NamedAgg(\n",
    "                column='FECHA_INICIAL', aggfunc='min'),\n",
    "            FECHA_FINAL=pd.NamedAgg(column='FECHA_FINAL', aggfunc='max'),\n",
    "            TIPO_CONTRATO=pd.NamedAgg(\n",
    "                column='TIPO_CONTRATO', aggfunc=most_frequent)\n",
    "        ).reset_index()\n",
    "\n",
    "        grouped_df['FECHA_INICIAL'] = grouped_df['FECHA_INICIAL'].dt.strftime('%d/%m/%Y')\n",
    "        grouped_df['FECHA_FINAL'] = grouped_df['FECHA_FINAL'].dt.strftime('%d/%m/%Y')\n",
    "\n",
    "\n",
    "        print(f\"Results for year {CURRENT_YEAR}\")\n",
    "        result[f\"{CURRENT_YEAR}\"] = grouped_df\n",
    "    else:\n",
    "        print(f\"No data for year {CURRENT_YEAR}\")"
   ]
  },
  {
   "cell_type": "code",
   "execution_count": 10,
   "metadata": {},
   "outputs": [
    {
     "name": "stdout",
     "output_type": "stream",
     "text": [
      "Data saved to CERTIFICADO GUTIERREZ SERRATO NEWMAN HERNAN.xlsx\n"
     ]
    }
   ],
   "source": [
    "nombreProfesor = getNombreProfesor()\n",
    "excelFile = f\"CERTIFICADO {nombreProfesor}.xlsx\"\n",
    "wb = Workbook()\n",
    "ws = wb.active\n",
    "ws.title = \"Certificado\"\n",
    "\n",
    "header_font = Font(bold=True, color=\"FFFFFF\")\n",
    "subheader_font = Font(bold=True)\n",
    "center_alignment = Alignment(horizontal='center')\n",
    "thin_border = Border(left=Side(style='thin'), \n",
    "                     right=Side(style='thin'), \n",
    "                     top=Side(style='thin'), \n",
    "                     bottom=Side(style='thin'))\n",
    "blue_fill = PatternFill(start_color=\"062f52\", end_color=\"062f52\", fill_type=\"solid\")\n",
    "\n",
    "ws.append([nombreProfesor])\n",
    "ws.merge_cells(start_row=1, start_column=1, end_row=1, end_column=8)\n",
    "ws.cell(row=1, column=1).alignment = center_alignment\n",
    "ws.cell(row=1, column=1).font = header_font\n",
    "\n",
    "ws.append([])\n",
    "\n",
    "for year, grouped_df in result.items():\n",
    "    ws.append([f\"Year: {year}\"])\n",
    "    ws.merge_cells(start_row=ws.max_row, start_column=1, end_row=ws.max_row, end_column=8)\n",
    "    ws.cell(row=ws.max_row, column=1).alignment = center_alignment\n",
    "    ws.cell(row=ws.max_row, column=1).font = header_font\n",
    "\n",
    "    for r_idx, row in enumerate(dataframe_to_rows(grouped_df, index=False, header=True), 1):\n",
    "        ws.append(row)\n",
    "        if r_idx == 1:\n",
    "            for cell in ws[ws.max_row]:\n",
    "                cell.font = subheader_font\n",
    "\n",
    "    ws.append([])\n",
    "\n",
    "## Styling\n",
    "for row in ws.iter_rows(min_row=1, max_row=ws.max_row, min_col=1, max_col=ws.max_column):\n",
    "    for cell in row:\n",
    "        if cell.value:\n",
    "            cell.alignment = center_alignment\n",
    "            cell.border = thin_border\n",
    "\n",
    "## Merged Styling\n",
    "for merged_cell_range in ws.merged_cells.ranges:\n",
    "    cell_range = CellRange(merged_cell_range.coord)\n",
    "    for row in ws.iter_rows(min_row=cell_range.min_row, max_row=cell_range.max_row,\n",
    "                            min_col=cell_range.min_col, max_col=cell_range.max_col):\n",
    "        for cell in row:\n",
    "            cell.border = thin_border\n",
    "            cell.fill = blue_fill\n",
    "            cell.font = header_font\n",
    "\n",
    "columnSize = [15, 45, 45, 20, 15, 15, 15, 15]\n",
    "\n",
    "for index, width in enumerate(columnSize, start=1):\n",
    "    col_letter = ws.cell(row=2, column=index).column_letter  # Obtener la letra de la columna desde la fila 3 (asegurarse de que no sea una celda fusionada)\n",
    "    ws.column_dimensions[col_letter].width = width\n",
    "\n",
    "wb.save(f\"../data/certificates/{excelFile}\")\n",
    "print(f\"Data saved to {excelFile}\")"
   ]
  }
 ],
 "metadata": {
  "kernelspec": {
   "display_name": "DataScience",
   "language": "python",
   "name": "python3"
  },
  "language_info": {
   "codemirror_mode": {
    "name": "ipython",
    "version": 3
   },
   "file_extension": ".py",
   "mimetype": "text/x-python",
   "name": "python",
   "nbconvert_exporter": "python",
   "pygments_lexer": "ipython3",
   "version": "3.12.2"
  }
 },
 "nbformat": 4,
 "nbformat_minor": 2
}
